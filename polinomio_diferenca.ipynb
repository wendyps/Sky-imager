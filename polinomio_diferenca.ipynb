{
 "cells": [
  {
   "cell_type": "markdown",
   "metadata": {},
   "source": [
    "## Cloud identification "
   ]
  },
  {
   "cell_type": "markdown",
   "metadata": {},
   "source": [
    "Importando as bibliotecas necessárias"
   ]
  },
  {
   "cell_type": "code",
   "execution_count": 1,
   "metadata": {},
   "outputs": [],
   "source": [
    "import pandas as pd\n",
    "import numpy as np\n",
    "import matplotlib.pyplot as plt\n",
    "from mpl_toolkits.mplot3d import Axes3D\n",
    "import warnings\n",
    "from scipy.optimize import OptimizeWarning\n",
    "from scipy.optimize import curve_fit\n",
    "import os\n",
    "import math\n",
    "import cv2"
   ]
  },
  {
   "cell_type": "markdown",
   "metadata": {},
   "source": [
    "Cálculo para identificar os pixels caracterizados como nuvens (condição de céu encoberto)"
   ]
  },
  {
   "cell_type": "code",
   "execution_count": null,
   "metadata": {},
   "outputs": [],
   "source": [
    "nubladas = '/home/personal/figures'\n",
    "cards =[]\n",
    "for imagem in nubladas:\n",
    "    limite_nuvem = 1.25\n",
    "    white = 255\n",
    "    black = 0\n",
    "\n",
    "    im = cv2.imread('Imagem/1.25/' + imagem)\n",
    "\n",
    "    red = [0,0,2]\n",
    "    blue = [0,0,1]\n",
    "    green = [0,0,0]\n",
    "\n",
    "\n",
    "    (red,blue,green) = cv2.split(im)\n",
    "    print((red,blue,green))\n",
    "\n",
    "    rbr = (red/blue)\n",
    "    print('O RBR é: ',rbr)\n",
    "    razao = (rbr/limite_nuvem)\n",
    "    print('a razão é', razao)\n",
    "    max_rbr = np.amax(rbr)\n",
    "    print('O valor máximo do RBR é: ', max_rbr)\n",
    "    min_rbr = np.amin(rbr)\n",
    "    print('O valor mínimo do RBR é: ', min_rbr)\n",
    "\n",
    "    local_nuvem = np.where(rbr<= limite_nuvem)\n",
    "    print(local_nuvem)\n",
    "\n",
    "    tamanho = np.shape(local_nuvem)\n",
    "    print(tamanho)\n",
    "            \n",
    "    pontos_x = local_nuvem[0]\n",
    "    pontos_y = local_nuvem[1]\n",
    "\n",
    "    ### Parâmetros para construir a imagem\n",
    "    rows = 1\n",
    "    cols = 2\n",
    "    axes=[]\n",
    "    fig, (ax1, ax2) = plt.subplots(nrows=rows, ncols=cols,figsize=(30,15))\n",
    "    #fig.add_subplot(rows, cols, 1)\n",
    "    ax1.axis(\"off\")\n",
    "    ax1.title.set_text('Original')\n",
    "    #fig.add_subplot(rows, cols, 2)\n",
    "    ax2.axis(\"off\")\n",
    "    ax2.title.set_text(\"Limiar nuvem/não-nuvem\")\n",
    "\n",
    "    ax1.imshow(im[:,:,[2,1,0]])\n",
    "    ax2.scatter(x=pontos_y,y=pontos_x,c='red')\n",
    "    ax2.imshow(im[:,:,[2,1,0]])\n",
    "\n",
    "    plt.show()\n",
    "\n",
    "\n",
    "    card={}\n",
    "    card['Nome da Imagem'] = imagem\n",
    "    card['Valor máximo do RBR'] = max_rbr\n",
    "    card['Valor mínimo do RBR'] = min_rbr\n",
    "    card['Pontos onde há nebulosidade'] = local_nuvem\n",
    "    cards.append(card)"
   ]
  },
  {
   "cell_type": "markdown",
   "metadata": {},
   "source": [
    "O polinômio da biblioteca de céu claro"
   ]
  },
  {
   "cell_type": "code",
   "execution_count": 2,
   "metadata": {},
   "outputs": [],
   "source": [
    "ceu_claro = pd.read_csv('Planilhas_rbr/Planilha_unida/cos_gama_razao_rbr_filtrado.csv')\n",
    "teste = pd.read_csv('informacoes_pixels_imagem.csv')\n",
    "polinomio_cosseno = pd.read_csv('cosseno_gama_do_polinomio.csv')\n",
    "polinomio_zenite = pd.read_csv('informacoes_imagem_polinomio.csv')\n",
    "rbr = pd.read_csv('Planilhas_rbr/20200318150000_11.jpg_rbr_pixels_polinomio.csv')"
   ]
  },
  {
   "cell_type": "code",
   "execution_count": 6,
   "metadata": {},
   "outputs": [
    {
     "name": "stdout",
     "output_type": "stream",
     "text": [
      "Parâmetro 0: 1.8659677833134984, Incerteza: 0.06694679687902648\n",
      "Parâmetro 1: -0.4516800269483274, Incerteza: 0.18228322672337555\n",
      "Parâmetro 2: -1.045109083743662, Incerteza: 0.17015149195121915\n",
      "Parâmetro 3: 0.8684120217871955, Incerteza: 0.06526071301118992\n",
      "Parâmetro 4: -0.16674407983696068, Incerteza: 0.008814506542679637\n",
      "Parâmetro 5: -7.3487797676777955, Incerteza: 0.4978681760912158\n",
      "Parâmetro 6: 8.124292893633752, Incerteza: 1.3367925897916968\n",
      "Parâmetro 7: 2.32295833702298, Incerteza: 1.238352142118277\n",
      "Parâmetro 8: -3.95127722308725, Incerteza: 0.47343806257689885\n",
      "Parâmetro 9: 0.849380507458687, Incerteza: 0.06389118310158992\n",
      "Parâmetro 10: 19.12438055307753, Incerteza: 1.2161929167693453\n",
      "Parâmetro 11: -25.6135063347063, Incerteza: 3.226765883240445\n",
      "Parâmetro 12: 3.4088594607406506, Incerteza: 2.962296395211441\n",
      "Parâmetro 13: 4.767605054525422, Incerteza: 1.1264801406480986\n",
      "Parâmetro 14: -1.2484959577663244, Incerteza: 0.15162861633967964\n",
      "Parâmetro 15: -15.159836068301045, Incerteza: 1.1139511121304009\n",
      "Parâmetro 16: 20.8920423346275, Incerteza: 2.9388221790800384\n",
      "Parâmetro 17: -4.119669047788994, Incerteza: 2.6843832582034204\n",
      "Parâmetro 18: -2.8428064020676724, Incerteza: 1.0185735409324121\n",
      "Parâmetro 19: 0.8079466638585753, Incerteza: 0.13718201995822044\n",
      "Parâmetro 20: 3.699637862999336, Incerteza: 0.33545743292258867\n",
      "Parâmetro 21: -4.978606622499139, Incerteza: 0.8809408991202539\n",
      "Parâmetro 22: 0.8628588427909363, Incerteza: 0.8024365359457973\n",
      "Parâmetro 23: 0.727845083770483, Incerteza: 0.3046226761331425\n",
      "Parâmetro 24: -0.19515684640038886, Incerteza: 0.04119081024622267\n"
     ]
    }
   ],
   "source": [
    "# Supondo que df seja o seu DataFrame\n",
    "\n",
    "def sua_funcao(x, *params):\n",
    "    i, j = x\n",
    "    return sum(params[k] * x[0]**i * x[1]**j for k, (i, j) in enumerate([(i, j) for i in range(5) for j in range(5)]))\n",
    "\n",
    "# Ajuste da função polinomial aos dados\n",
    "initial_guess = [1.0] * 25  # valores iniciais para os 25 coeficientes (5x5)\n",
    "#initial_guess\n",
    "# Ajuste da função polinomial aos dados\n",
    "params, covariance = curve_fit(sua_funcao, (ceu_claro['zenite_pixel'], ceu_claro['cosseno_gama']), ceu_claro['limiar_rbr'], p0=initial_guess)\n",
    "\n",
    "# Imprime os parâmetros ajustados\n",
    "# print(\"Parâmetros ajustados:\", params)\n",
    "# Extrair a matriz de covariância\n",
    "covariance_matrix = np.sqrt(np.diag(covariance))\n",
    "\n",
    "# Imprimir os parâmetros ajustados e as incertezas associadas\n",
    "for i, (param, uncertainty) in enumerate(zip(params, covariance_matrix)):\n",
    "    print(f\"Parâmetro {i}: {param}, Incerteza: {uncertainty}\")"
   ]
  },
  {
   "cell_type": "code",
   "execution_count": 8,
   "metadata": {},
   "outputs": [
    {
     "data": {
      "text/plain": [
       "0         1.119937\n",
       "1         1.118728\n",
       "2         1.115728\n",
       "3         1.112398\n",
       "4         1.109313\n",
       "            ...   \n",
       "493855    1.215026\n",
       "493856    1.215060\n",
       "493857    1.215138\n",
       "493858    1.215255\n",
       "493859    1.215404\n",
       "Length: 493860, dtype: float64"
      ]
     },
     "execution_count": 8,
     "metadata": {},
     "output_type": "execute_result"
    }
   ],
   "source": [
    "valor_polinomio = sua_funcao((ceu_claro['zenite_pixel'], ceu_claro['cosseno_gama']), *params)\n",
    "valor_polinomio"
   ]
  },
  {
   "cell_type": "code",
   "execution_count": null,
   "metadata": {},
   "outputs": [],
   "source": [
    "\n",
    "#### Calculando a função do threshold adaptativo ####\n",
    "figura1 = cv2.imread('figuras/20200317150000_11.jpg')\n",
    "polinomio_imagem1 = pd.read_csv('processadas/informacoes_imagem_20200317150000_processado.csv')\n",
    "# Encontrar índices dos valores NaN\n",
    "print(polinomio_imagem1.isna().any())\n",
    "polinomio_imagem1['cosseno angulo'] = polinomio_imagem1['cosseno angulo'].fillna(0)\n",
    "print(polinomio_imagem1)\n",
    "figura1= cv2.flip(figura1, 1)\n",
    "# Split channels\n",
    "# Separar os canais de cores\n",
    "blue, green, red = cv2.split(figura1)\n",
    "\n",
    "# Replace zeros in blue channel with a small positive value to avoid division by zero\n",
    "blue[blue == 0] = 1\n",
    "\n",
    "# Calculate RBR\n",
    "rbr = red / blue\n",
    "#print(rbr)\n",
    "### Cálculoda função \n",
    "valor_1 = sua_funcao((polinomio_imagem1['zenite pixel'],polinomio_imagem1['cosseno angulo']),*params)\n",
    "print(valor_1)\n",
    "# Redimensionar valor_1 para ter as mesmas dimensões que rbr\n",
    "valor_1_resized = np.resize(valor_1, rbr.shape)\n",
    "\n",
    "# Calcular diferenças entre rbr e valor_1\n",
    "diferencas = rbr - valor_1_resized\n",
    "print(diferencas)\n",
    "\n",
    "# Redimensionar polinomio_imagem1['cosseno angulo'] para que tenha o mesmo formato que diferencas\n",
    "polinomio_reshaped = np.resize(polinomio_imagem1['cosseno angulo'],rbr.shape)\n",
    "\n",
    "# Calcular diff aplicando a função\n",
    "diff = diferencas * (1 + np.exp(-(np.abs(polinomio_reshaped)))/5)\n",
    "print(diff.min())\n",
    "\n",
    "\n",
    "# Plotar a imagem das diferenças em cores RGB\n",
    "plt.imshow(diff, cmap='binary')  # Usar cmap='gray' para representar como escala de cinza\n",
    "plt.title('Imagem das diferenças (RGB)')\n",
    "plt.axis('off')\n",
    "plt.colorbar()\n",
    "plt.show()\n",
    "\n"
   ]
  }
 ],
 "metadata": {
  "kernelspec": {
   "display_name": "Python 3",
   "language": "python",
   "name": "python3"
  },
  "language_info": {
   "codemirror_mode": {
    "name": "ipython",
    "version": 3
   },
   "file_extension": ".py",
   "mimetype": "text/x-python",
   "name": "python",
   "nbconvert_exporter": "python",
   "pygments_lexer": "ipython3",
   "version": "3.11.5"
  }
 },
 "nbformat": 4,
 "nbformat_minor": 2
}
